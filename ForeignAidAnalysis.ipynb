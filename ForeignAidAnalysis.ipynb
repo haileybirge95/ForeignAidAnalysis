{
 "cells": [
  {
   "cell_type": "code",
   "execution_count": null,
   "id": "29224513-6435-44f9-9273-2eebcd16e070",
   "metadata": {},
   "outputs": [],
   "source": [
    "#Random line of text so this saves"
   ]
  }
 ],
 "metadata": {
  "kernelspec": {
   "display_name": "Python 3 (ipykernel)",
   "language": "python",
   "name": "python3"
  },
  "language_info": {
   "codemirror_mode": {
    "name": "ipython",
    "version": 3
   },
   "file_extension": ".py",
   "mimetype": "text/x-python",
   "name": "python",
   "nbconvert_exporter": "python",
   "pygments_lexer": "ipython3",
   "version": "3.12.4"
  }
 },
 "nbformat": 4,
 "nbformat_minor": 5
}
