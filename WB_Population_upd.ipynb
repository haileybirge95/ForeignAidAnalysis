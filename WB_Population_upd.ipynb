{
 "cells": [
  {
   "cell_type": "markdown",
   "id": "9dc5ce6c",
   "metadata": {},
   "source": [
    "# World Bank - Population Summarizing\n",
    "Reduced '.csv' files from WB_data Notebook"
   ]
  },
  {
   "cell_type": "code",
   "execution_count": 36,
   "id": "ecdc4e4e",
   "metadata": {},
   "outputs": [],
   "source": [
    "# Dependencies and Setup\n",
    "import pandas as pd\n",
    "from pathlib import Path\n",
    "import requests\n",
    "import matplotlib.pyplot as plt\n",
    "from matplotlib import cbook\n",
    "from scipy.stats import linregress\n",
    "import scipy.stats as st\n",
    "import numpy as np\n",
    "import time\n",
    "\n",
    "\n",
    "# Import the Geoapify API key\n",
    "#from api_keys import geoapify_key\n",
    "\n",
    "# Import citipy to determine the cities based on latitude and longitude\n",
    "#from citipy import citipy"
   ]
  },
  {
   "cell_type": "code",
   "execution_count": 37,
   "id": "56c842b8",
   "metadata": {},
   "outputs": [
    {
     "name": "stderr",
     "output_type": "stream",
     "text": [
      "<>:2: SyntaxWarning: invalid escape sequence '\\W'\n",
      "<>:2: SyntaxWarning: invalid escape sequence '\\W'\n",
      "C:\\Users\\hebir\\AppData\\Local\\Temp\\ipykernel_18780\\2038409107.py:2: SyntaxWarning: invalid escape sequence '\\W'\n",
      "  WB_africadata_2000 = Path(\"Resources\\WB_africadata_2000.csv\")\n"
     ]
    }
   ],
   "source": [
    "# WB data set\n",
    "WB_africadata_2000 = Path(\"Resources\\WB_africadata_2000.csv\")"
   ]
  },
  {
   "cell_type": "code",
   "execution_count": 6,
   "id": "5a93c22d",
   "metadata": {},
   "outputs": [
    {
     "ename": "FileNotFoundError",
     "evalue": "[Errno 2] No such file or directory: 'Resources\\\\WB_africadata_2000.csv'",
     "output_type": "error",
     "traceback": [
      "\u001b[1;31m---------------------------------------------------------------------------\u001b[0m",
      "\u001b[1;31mFileNotFoundError\u001b[0m                         Traceback (most recent call last)",
      "Cell \u001b[1;32mIn[6], line 3\u001b[0m\n\u001b[0;32m      1\u001b[0m \u001b[38;5;66;03m# Read data file with the Pandas library\u001b[39;00m\n\u001b[0;32m      2\u001b[0m \u001b[38;5;66;03m# encoding?, i.e encoding=\"ISO-8859-1\"\u001b[39;00m\n\u001b[1;32m----> 3\u001b[0m WB_africadata_2000_df \u001b[38;5;241m=\u001b[39m pd\u001b[38;5;241m.\u001b[39mread_csv(WB_africadata_2000)\n",
      "File \u001b[1;32m~\\anaconda3\\Lib\\site-packages\\pandas\\io\\parsers\\readers.py:1026\u001b[0m, in \u001b[0;36mread_csv\u001b[1;34m(filepath_or_buffer, sep, delimiter, header, names, index_col, usecols, dtype, engine, converters, true_values, false_values, skipinitialspace, skiprows, skipfooter, nrows, na_values, keep_default_na, na_filter, verbose, skip_blank_lines, parse_dates, infer_datetime_format, keep_date_col, date_parser, date_format, dayfirst, cache_dates, iterator, chunksize, compression, thousands, decimal, lineterminator, quotechar, quoting, doublequote, escapechar, comment, encoding, encoding_errors, dialect, on_bad_lines, delim_whitespace, low_memory, memory_map, float_precision, storage_options, dtype_backend)\u001b[0m\n\u001b[0;32m   1013\u001b[0m kwds_defaults \u001b[38;5;241m=\u001b[39m _refine_defaults_read(\n\u001b[0;32m   1014\u001b[0m     dialect,\n\u001b[0;32m   1015\u001b[0m     delimiter,\n\u001b[1;32m   (...)\u001b[0m\n\u001b[0;32m   1022\u001b[0m     dtype_backend\u001b[38;5;241m=\u001b[39mdtype_backend,\n\u001b[0;32m   1023\u001b[0m )\n\u001b[0;32m   1024\u001b[0m kwds\u001b[38;5;241m.\u001b[39mupdate(kwds_defaults)\n\u001b[1;32m-> 1026\u001b[0m \u001b[38;5;28;01mreturn\u001b[39;00m _read(filepath_or_buffer, kwds)\n",
      "File \u001b[1;32m~\\anaconda3\\Lib\\site-packages\\pandas\\io\\parsers\\readers.py:620\u001b[0m, in \u001b[0;36m_read\u001b[1;34m(filepath_or_buffer, kwds)\u001b[0m\n\u001b[0;32m    617\u001b[0m _validate_names(kwds\u001b[38;5;241m.\u001b[39mget(\u001b[38;5;124m\"\u001b[39m\u001b[38;5;124mnames\u001b[39m\u001b[38;5;124m\"\u001b[39m, \u001b[38;5;28;01mNone\u001b[39;00m))\n\u001b[0;32m    619\u001b[0m \u001b[38;5;66;03m# Create the parser.\u001b[39;00m\n\u001b[1;32m--> 620\u001b[0m parser \u001b[38;5;241m=\u001b[39m TextFileReader(filepath_or_buffer, \u001b[38;5;241m*\u001b[39m\u001b[38;5;241m*\u001b[39mkwds)\n\u001b[0;32m    622\u001b[0m \u001b[38;5;28;01mif\u001b[39;00m chunksize \u001b[38;5;129;01mor\u001b[39;00m iterator:\n\u001b[0;32m    623\u001b[0m     \u001b[38;5;28;01mreturn\u001b[39;00m parser\n",
      "File \u001b[1;32m~\\anaconda3\\Lib\\site-packages\\pandas\\io\\parsers\\readers.py:1620\u001b[0m, in \u001b[0;36mTextFileReader.__init__\u001b[1;34m(self, f, engine, **kwds)\u001b[0m\n\u001b[0;32m   1617\u001b[0m     \u001b[38;5;28mself\u001b[39m\u001b[38;5;241m.\u001b[39moptions[\u001b[38;5;124m\"\u001b[39m\u001b[38;5;124mhas_index_names\u001b[39m\u001b[38;5;124m\"\u001b[39m] \u001b[38;5;241m=\u001b[39m kwds[\u001b[38;5;124m\"\u001b[39m\u001b[38;5;124mhas_index_names\u001b[39m\u001b[38;5;124m\"\u001b[39m]\n\u001b[0;32m   1619\u001b[0m \u001b[38;5;28mself\u001b[39m\u001b[38;5;241m.\u001b[39mhandles: IOHandles \u001b[38;5;241m|\u001b[39m \u001b[38;5;28;01mNone\u001b[39;00m \u001b[38;5;241m=\u001b[39m \u001b[38;5;28;01mNone\u001b[39;00m\n\u001b[1;32m-> 1620\u001b[0m \u001b[38;5;28mself\u001b[39m\u001b[38;5;241m.\u001b[39m_engine \u001b[38;5;241m=\u001b[39m \u001b[38;5;28mself\u001b[39m\u001b[38;5;241m.\u001b[39m_make_engine(f, \u001b[38;5;28mself\u001b[39m\u001b[38;5;241m.\u001b[39mengine)\n",
      "File \u001b[1;32m~\\anaconda3\\Lib\\site-packages\\pandas\\io\\parsers\\readers.py:1880\u001b[0m, in \u001b[0;36mTextFileReader._make_engine\u001b[1;34m(self, f, engine)\u001b[0m\n\u001b[0;32m   1878\u001b[0m     \u001b[38;5;28;01mif\u001b[39;00m \u001b[38;5;124m\"\u001b[39m\u001b[38;5;124mb\u001b[39m\u001b[38;5;124m\"\u001b[39m \u001b[38;5;129;01mnot\u001b[39;00m \u001b[38;5;129;01min\u001b[39;00m mode:\n\u001b[0;32m   1879\u001b[0m         mode \u001b[38;5;241m+\u001b[39m\u001b[38;5;241m=\u001b[39m \u001b[38;5;124m\"\u001b[39m\u001b[38;5;124mb\u001b[39m\u001b[38;5;124m\"\u001b[39m\n\u001b[1;32m-> 1880\u001b[0m \u001b[38;5;28mself\u001b[39m\u001b[38;5;241m.\u001b[39mhandles \u001b[38;5;241m=\u001b[39m get_handle(\n\u001b[0;32m   1881\u001b[0m     f,\n\u001b[0;32m   1882\u001b[0m     mode,\n\u001b[0;32m   1883\u001b[0m     encoding\u001b[38;5;241m=\u001b[39m\u001b[38;5;28mself\u001b[39m\u001b[38;5;241m.\u001b[39moptions\u001b[38;5;241m.\u001b[39mget(\u001b[38;5;124m\"\u001b[39m\u001b[38;5;124mencoding\u001b[39m\u001b[38;5;124m\"\u001b[39m, \u001b[38;5;28;01mNone\u001b[39;00m),\n\u001b[0;32m   1884\u001b[0m     compression\u001b[38;5;241m=\u001b[39m\u001b[38;5;28mself\u001b[39m\u001b[38;5;241m.\u001b[39moptions\u001b[38;5;241m.\u001b[39mget(\u001b[38;5;124m\"\u001b[39m\u001b[38;5;124mcompression\u001b[39m\u001b[38;5;124m\"\u001b[39m, \u001b[38;5;28;01mNone\u001b[39;00m),\n\u001b[0;32m   1885\u001b[0m     memory_map\u001b[38;5;241m=\u001b[39m\u001b[38;5;28mself\u001b[39m\u001b[38;5;241m.\u001b[39moptions\u001b[38;5;241m.\u001b[39mget(\u001b[38;5;124m\"\u001b[39m\u001b[38;5;124mmemory_map\u001b[39m\u001b[38;5;124m\"\u001b[39m, \u001b[38;5;28;01mFalse\u001b[39;00m),\n\u001b[0;32m   1886\u001b[0m     is_text\u001b[38;5;241m=\u001b[39mis_text,\n\u001b[0;32m   1887\u001b[0m     errors\u001b[38;5;241m=\u001b[39m\u001b[38;5;28mself\u001b[39m\u001b[38;5;241m.\u001b[39moptions\u001b[38;5;241m.\u001b[39mget(\u001b[38;5;124m\"\u001b[39m\u001b[38;5;124mencoding_errors\u001b[39m\u001b[38;5;124m\"\u001b[39m, \u001b[38;5;124m\"\u001b[39m\u001b[38;5;124mstrict\u001b[39m\u001b[38;5;124m\"\u001b[39m),\n\u001b[0;32m   1888\u001b[0m     storage_options\u001b[38;5;241m=\u001b[39m\u001b[38;5;28mself\u001b[39m\u001b[38;5;241m.\u001b[39moptions\u001b[38;5;241m.\u001b[39mget(\u001b[38;5;124m\"\u001b[39m\u001b[38;5;124mstorage_options\u001b[39m\u001b[38;5;124m\"\u001b[39m, \u001b[38;5;28;01mNone\u001b[39;00m),\n\u001b[0;32m   1889\u001b[0m )\n\u001b[0;32m   1890\u001b[0m \u001b[38;5;28;01massert\u001b[39;00m \u001b[38;5;28mself\u001b[39m\u001b[38;5;241m.\u001b[39mhandles \u001b[38;5;129;01mis\u001b[39;00m \u001b[38;5;129;01mnot\u001b[39;00m \u001b[38;5;28;01mNone\u001b[39;00m\n\u001b[0;32m   1891\u001b[0m f \u001b[38;5;241m=\u001b[39m \u001b[38;5;28mself\u001b[39m\u001b[38;5;241m.\u001b[39mhandles\u001b[38;5;241m.\u001b[39mhandle\n",
      "File \u001b[1;32m~\\anaconda3\\Lib\\site-packages\\pandas\\io\\common.py:873\u001b[0m, in \u001b[0;36mget_handle\u001b[1;34m(path_or_buf, mode, encoding, compression, memory_map, is_text, errors, storage_options)\u001b[0m\n\u001b[0;32m    868\u001b[0m \u001b[38;5;28;01melif\u001b[39;00m \u001b[38;5;28misinstance\u001b[39m(handle, \u001b[38;5;28mstr\u001b[39m):\n\u001b[0;32m    869\u001b[0m     \u001b[38;5;66;03m# Check whether the filename is to be opened in binary mode.\u001b[39;00m\n\u001b[0;32m    870\u001b[0m     \u001b[38;5;66;03m# Binary mode does not support 'encoding' and 'newline'.\u001b[39;00m\n\u001b[0;32m    871\u001b[0m     \u001b[38;5;28;01mif\u001b[39;00m ioargs\u001b[38;5;241m.\u001b[39mencoding \u001b[38;5;129;01mand\u001b[39;00m \u001b[38;5;124m\"\u001b[39m\u001b[38;5;124mb\u001b[39m\u001b[38;5;124m\"\u001b[39m \u001b[38;5;129;01mnot\u001b[39;00m \u001b[38;5;129;01min\u001b[39;00m ioargs\u001b[38;5;241m.\u001b[39mmode:\n\u001b[0;32m    872\u001b[0m         \u001b[38;5;66;03m# Encoding\u001b[39;00m\n\u001b[1;32m--> 873\u001b[0m         handle \u001b[38;5;241m=\u001b[39m \u001b[38;5;28mopen\u001b[39m(\n\u001b[0;32m    874\u001b[0m             handle,\n\u001b[0;32m    875\u001b[0m             ioargs\u001b[38;5;241m.\u001b[39mmode,\n\u001b[0;32m    876\u001b[0m             encoding\u001b[38;5;241m=\u001b[39mioargs\u001b[38;5;241m.\u001b[39mencoding,\n\u001b[0;32m    877\u001b[0m             errors\u001b[38;5;241m=\u001b[39merrors,\n\u001b[0;32m    878\u001b[0m             newline\u001b[38;5;241m=\u001b[39m\u001b[38;5;124m\"\u001b[39m\u001b[38;5;124m\"\u001b[39m,\n\u001b[0;32m    879\u001b[0m         )\n\u001b[0;32m    880\u001b[0m     \u001b[38;5;28;01melse\u001b[39;00m:\n\u001b[0;32m    881\u001b[0m         \u001b[38;5;66;03m# Binary mode\u001b[39;00m\n\u001b[0;32m    882\u001b[0m         handle \u001b[38;5;241m=\u001b[39m \u001b[38;5;28mopen\u001b[39m(handle, ioargs\u001b[38;5;241m.\u001b[39mmode)\n",
      "\u001b[1;31mFileNotFoundError\u001b[0m: [Errno 2] No such file or directory: 'Resources\\\\WB_africadata_2000.csv'"
     ]
    }
   ],
   "source": [
    "# Read data file with the Pandas library\n",
    "# encoding?, i.e encoding=\"ISO-8859-1\"\n",
    "WB_africadata_2000_df = pd.read_csv(WB_africadata_2000)"
   ]
  },
  {
   "cell_type": "code",
   "execution_count": null,
   "id": "b4e67f89",
   "metadata": {},
   "outputs": [],
   "source": [
    "WB_africadata_2000_df"
   ]
  },
  {
   "cell_type": "markdown",
   "id": "96ef72ae",
   "metadata": {},
   "source": [
    "### World Bank Data Source Break-down\n",
    "###The 'WB_africadata_2000.csv' created in the WB_data notebook will be used to summarize the Foreign Aid and different indicators data.\n",
    "\n",
    "###To help with the anlysis of the data, the data was put in bins of 5 years from 2000 to 2020, and a last bin for 2021 to 2023."
   ]
  },
  {
   "cell_type": "code",
   "execution_count": null,
   "id": "7dfac586",
   "metadata": {},
   "outputs": [],
   "source": [
    "WB_africadata_2000_df2 = WB_africadata_2000_df"
   ]
  },
  {
   "cell_type": "code",
   "execution_count": null,
   "id": "f4fe6747",
   "metadata": {},
   "outputs": [],
   "source": []
  },
  {
   "cell_type": "code",
   "execution_count": null,
   "id": "acdfd999",
   "metadata": {},
   "outputs": [],
   "source": []
  },
  {
   "cell_type": "code",
   "execution_count": null,
   "id": "d9c05954",
   "metadata": {},
   "outputs": [],
   "source": []
  },
  {
   "cell_type": "markdown",
   "id": "72439996",
   "metadata": {},
   "source": [
    "# Slicing of the Data\n",
    "###In order to analyze the data and to understand the impact of the Foreign Aid with regards to poverty rate, literacy and mortality, the data was sliced by the \"series_id\". The deifinition of the diferent \"series_id\" values (indicators) is described in a second file downloaded from the Nasdaq API and saved as 'WB_metadata_df'.\n",
    "\n",
    "###To facilitate/expedite the search and filtering of the relevant a function was created to search the text strings : \"key_word\". This function is case sensitive and it's used is combined with the review of the search output selection to identify the indicators that best match our work objective."
   ]
  },
  {
   "cell_type": "code",
   "execution_count": 9,
   "id": "89105cae",
   "metadata": {},
   "outputs": [],
   "source": [
    "# WB id series definition data set\n",
    "WB_metadata = Path(\"Resources/WB_METADATA_f7ce7fba293ccc6eb39cdf15fb097982.csv\")"
   ]
  },
  {
   "cell_type": "code",
   "execution_count": 10,
   "id": "145fa354",
   "metadata": {},
   "outputs": [
    {
     "ename": "FileNotFoundError",
     "evalue": "[Errno 2] No such file or directory: 'Resources\\\\WB_METADATA_f7ce7fba293ccc6eb39cdf15fb097982.csv'",
     "output_type": "error",
     "traceback": [
      "\u001b[1;31m---------------------------------------------------------------------------\u001b[0m",
      "\u001b[1;31mFileNotFoundError\u001b[0m                         Traceback (most recent call last)",
      "Cell \u001b[1;32mIn[10], line 2\u001b[0m\n\u001b[0;32m      1\u001b[0m \u001b[38;5;66;03m# Read data file with the Pandas library\u001b[39;00m\n\u001b[1;32m----> 2\u001b[0m WB_metadata_df \u001b[38;5;241m=\u001b[39m pd\u001b[38;5;241m.\u001b[39mread_csv(WB_metadata)\n",
      "File \u001b[1;32m~\\anaconda3\\Lib\\site-packages\\pandas\\io\\parsers\\readers.py:1026\u001b[0m, in \u001b[0;36mread_csv\u001b[1;34m(filepath_or_buffer, sep, delimiter, header, names, index_col, usecols, dtype, engine, converters, true_values, false_values, skipinitialspace, skiprows, skipfooter, nrows, na_values, keep_default_na, na_filter, verbose, skip_blank_lines, parse_dates, infer_datetime_format, keep_date_col, date_parser, date_format, dayfirst, cache_dates, iterator, chunksize, compression, thousands, decimal, lineterminator, quotechar, quoting, doublequote, escapechar, comment, encoding, encoding_errors, dialect, on_bad_lines, delim_whitespace, low_memory, memory_map, float_precision, storage_options, dtype_backend)\u001b[0m\n\u001b[0;32m   1013\u001b[0m kwds_defaults \u001b[38;5;241m=\u001b[39m _refine_defaults_read(\n\u001b[0;32m   1014\u001b[0m     dialect,\n\u001b[0;32m   1015\u001b[0m     delimiter,\n\u001b[1;32m   (...)\u001b[0m\n\u001b[0;32m   1022\u001b[0m     dtype_backend\u001b[38;5;241m=\u001b[39mdtype_backend,\n\u001b[0;32m   1023\u001b[0m )\n\u001b[0;32m   1024\u001b[0m kwds\u001b[38;5;241m.\u001b[39mupdate(kwds_defaults)\n\u001b[1;32m-> 1026\u001b[0m \u001b[38;5;28;01mreturn\u001b[39;00m _read(filepath_or_buffer, kwds)\n",
      "File \u001b[1;32m~\\anaconda3\\Lib\\site-packages\\pandas\\io\\parsers\\readers.py:620\u001b[0m, in \u001b[0;36m_read\u001b[1;34m(filepath_or_buffer, kwds)\u001b[0m\n\u001b[0;32m    617\u001b[0m _validate_names(kwds\u001b[38;5;241m.\u001b[39mget(\u001b[38;5;124m\"\u001b[39m\u001b[38;5;124mnames\u001b[39m\u001b[38;5;124m\"\u001b[39m, \u001b[38;5;28;01mNone\u001b[39;00m))\n\u001b[0;32m    619\u001b[0m \u001b[38;5;66;03m# Create the parser.\u001b[39;00m\n\u001b[1;32m--> 620\u001b[0m parser \u001b[38;5;241m=\u001b[39m TextFileReader(filepath_or_buffer, \u001b[38;5;241m*\u001b[39m\u001b[38;5;241m*\u001b[39mkwds)\n\u001b[0;32m    622\u001b[0m \u001b[38;5;28;01mif\u001b[39;00m chunksize \u001b[38;5;129;01mor\u001b[39;00m iterator:\n\u001b[0;32m    623\u001b[0m     \u001b[38;5;28;01mreturn\u001b[39;00m parser\n",
      "File \u001b[1;32m~\\anaconda3\\Lib\\site-packages\\pandas\\io\\parsers\\readers.py:1620\u001b[0m, in \u001b[0;36mTextFileReader.__init__\u001b[1;34m(self, f, engine, **kwds)\u001b[0m\n\u001b[0;32m   1617\u001b[0m     \u001b[38;5;28mself\u001b[39m\u001b[38;5;241m.\u001b[39moptions[\u001b[38;5;124m\"\u001b[39m\u001b[38;5;124mhas_index_names\u001b[39m\u001b[38;5;124m\"\u001b[39m] \u001b[38;5;241m=\u001b[39m kwds[\u001b[38;5;124m\"\u001b[39m\u001b[38;5;124mhas_index_names\u001b[39m\u001b[38;5;124m\"\u001b[39m]\n\u001b[0;32m   1619\u001b[0m \u001b[38;5;28mself\u001b[39m\u001b[38;5;241m.\u001b[39mhandles: IOHandles \u001b[38;5;241m|\u001b[39m \u001b[38;5;28;01mNone\u001b[39;00m \u001b[38;5;241m=\u001b[39m \u001b[38;5;28;01mNone\u001b[39;00m\n\u001b[1;32m-> 1620\u001b[0m \u001b[38;5;28mself\u001b[39m\u001b[38;5;241m.\u001b[39m_engine \u001b[38;5;241m=\u001b[39m \u001b[38;5;28mself\u001b[39m\u001b[38;5;241m.\u001b[39m_make_engine(f, \u001b[38;5;28mself\u001b[39m\u001b[38;5;241m.\u001b[39mengine)\n",
      "File \u001b[1;32m~\\anaconda3\\Lib\\site-packages\\pandas\\io\\parsers\\readers.py:1880\u001b[0m, in \u001b[0;36mTextFileReader._make_engine\u001b[1;34m(self, f, engine)\u001b[0m\n\u001b[0;32m   1878\u001b[0m     \u001b[38;5;28;01mif\u001b[39;00m \u001b[38;5;124m\"\u001b[39m\u001b[38;5;124mb\u001b[39m\u001b[38;5;124m\"\u001b[39m \u001b[38;5;129;01mnot\u001b[39;00m \u001b[38;5;129;01min\u001b[39;00m mode:\n\u001b[0;32m   1879\u001b[0m         mode \u001b[38;5;241m+\u001b[39m\u001b[38;5;241m=\u001b[39m \u001b[38;5;124m\"\u001b[39m\u001b[38;5;124mb\u001b[39m\u001b[38;5;124m\"\u001b[39m\n\u001b[1;32m-> 1880\u001b[0m \u001b[38;5;28mself\u001b[39m\u001b[38;5;241m.\u001b[39mhandles \u001b[38;5;241m=\u001b[39m get_handle(\n\u001b[0;32m   1881\u001b[0m     f,\n\u001b[0;32m   1882\u001b[0m     mode,\n\u001b[0;32m   1883\u001b[0m     encoding\u001b[38;5;241m=\u001b[39m\u001b[38;5;28mself\u001b[39m\u001b[38;5;241m.\u001b[39moptions\u001b[38;5;241m.\u001b[39mget(\u001b[38;5;124m\"\u001b[39m\u001b[38;5;124mencoding\u001b[39m\u001b[38;5;124m\"\u001b[39m, \u001b[38;5;28;01mNone\u001b[39;00m),\n\u001b[0;32m   1884\u001b[0m     compression\u001b[38;5;241m=\u001b[39m\u001b[38;5;28mself\u001b[39m\u001b[38;5;241m.\u001b[39moptions\u001b[38;5;241m.\u001b[39mget(\u001b[38;5;124m\"\u001b[39m\u001b[38;5;124mcompression\u001b[39m\u001b[38;5;124m\"\u001b[39m, \u001b[38;5;28;01mNone\u001b[39;00m),\n\u001b[0;32m   1885\u001b[0m     memory_map\u001b[38;5;241m=\u001b[39m\u001b[38;5;28mself\u001b[39m\u001b[38;5;241m.\u001b[39moptions\u001b[38;5;241m.\u001b[39mget(\u001b[38;5;124m\"\u001b[39m\u001b[38;5;124mmemory_map\u001b[39m\u001b[38;5;124m\"\u001b[39m, \u001b[38;5;28;01mFalse\u001b[39;00m),\n\u001b[0;32m   1886\u001b[0m     is_text\u001b[38;5;241m=\u001b[39mis_text,\n\u001b[0;32m   1887\u001b[0m     errors\u001b[38;5;241m=\u001b[39m\u001b[38;5;28mself\u001b[39m\u001b[38;5;241m.\u001b[39moptions\u001b[38;5;241m.\u001b[39mget(\u001b[38;5;124m\"\u001b[39m\u001b[38;5;124mencoding_errors\u001b[39m\u001b[38;5;124m\"\u001b[39m, \u001b[38;5;124m\"\u001b[39m\u001b[38;5;124mstrict\u001b[39m\u001b[38;5;124m\"\u001b[39m),\n\u001b[0;32m   1888\u001b[0m     storage_options\u001b[38;5;241m=\u001b[39m\u001b[38;5;28mself\u001b[39m\u001b[38;5;241m.\u001b[39moptions\u001b[38;5;241m.\u001b[39mget(\u001b[38;5;124m\"\u001b[39m\u001b[38;5;124mstorage_options\u001b[39m\u001b[38;5;124m\"\u001b[39m, \u001b[38;5;28;01mNone\u001b[39;00m),\n\u001b[0;32m   1889\u001b[0m )\n\u001b[0;32m   1890\u001b[0m \u001b[38;5;28;01massert\u001b[39;00m \u001b[38;5;28mself\u001b[39m\u001b[38;5;241m.\u001b[39mhandles \u001b[38;5;129;01mis\u001b[39;00m \u001b[38;5;129;01mnot\u001b[39;00m \u001b[38;5;28;01mNone\u001b[39;00m\n\u001b[0;32m   1891\u001b[0m f \u001b[38;5;241m=\u001b[39m \u001b[38;5;28mself\u001b[39m\u001b[38;5;241m.\u001b[39mhandles\u001b[38;5;241m.\u001b[39mhandle\n",
      "File \u001b[1;32m~\\anaconda3\\Lib\\site-packages\\pandas\\io\\common.py:873\u001b[0m, in \u001b[0;36mget_handle\u001b[1;34m(path_or_buf, mode, encoding, compression, memory_map, is_text, errors, storage_options)\u001b[0m\n\u001b[0;32m    868\u001b[0m \u001b[38;5;28;01melif\u001b[39;00m \u001b[38;5;28misinstance\u001b[39m(handle, \u001b[38;5;28mstr\u001b[39m):\n\u001b[0;32m    869\u001b[0m     \u001b[38;5;66;03m# Check whether the filename is to be opened in binary mode.\u001b[39;00m\n\u001b[0;32m    870\u001b[0m     \u001b[38;5;66;03m# Binary mode does not support 'encoding' and 'newline'.\u001b[39;00m\n\u001b[0;32m    871\u001b[0m     \u001b[38;5;28;01mif\u001b[39;00m ioargs\u001b[38;5;241m.\u001b[39mencoding \u001b[38;5;129;01mand\u001b[39;00m \u001b[38;5;124m\"\u001b[39m\u001b[38;5;124mb\u001b[39m\u001b[38;5;124m\"\u001b[39m \u001b[38;5;129;01mnot\u001b[39;00m \u001b[38;5;129;01min\u001b[39;00m ioargs\u001b[38;5;241m.\u001b[39mmode:\n\u001b[0;32m    872\u001b[0m         \u001b[38;5;66;03m# Encoding\u001b[39;00m\n\u001b[1;32m--> 873\u001b[0m         handle \u001b[38;5;241m=\u001b[39m \u001b[38;5;28mopen\u001b[39m(\n\u001b[0;32m    874\u001b[0m             handle,\n\u001b[0;32m    875\u001b[0m             ioargs\u001b[38;5;241m.\u001b[39mmode,\n\u001b[0;32m    876\u001b[0m             encoding\u001b[38;5;241m=\u001b[39mioargs\u001b[38;5;241m.\u001b[39mencoding,\n\u001b[0;32m    877\u001b[0m             errors\u001b[38;5;241m=\u001b[39merrors,\n\u001b[0;32m    878\u001b[0m             newline\u001b[38;5;241m=\u001b[39m\u001b[38;5;124m\"\u001b[39m\u001b[38;5;124m\"\u001b[39m,\n\u001b[0;32m    879\u001b[0m         )\n\u001b[0;32m    880\u001b[0m     \u001b[38;5;28;01melse\u001b[39;00m:\n\u001b[0;32m    881\u001b[0m         \u001b[38;5;66;03m# Binary mode\u001b[39;00m\n\u001b[0;32m    882\u001b[0m         handle \u001b[38;5;241m=\u001b[39m \u001b[38;5;28mopen\u001b[39m(handle, ioargs\u001b[38;5;241m.\u001b[39mmode)\n",
      "\u001b[1;31mFileNotFoundError\u001b[0m: [Errno 2] No such file or directory: 'Resources\\\\WB_METADATA_f7ce7fba293ccc6eb39cdf15fb097982.csv'"
     ]
    }
   ],
   "source": [
    "# Read data file with the Pandas library\n",
    "WB_metadata_df = pd.read_csv(WB_metadata)"
   ]
  },
  {
   "cell_type": "code",
   "execution_count": null,
   "id": "628ac988",
   "metadata": {},
   "outputs": [],
   "source": [
    "WB_metadata_df"
   ]
  },
  {
   "cell_type": "code",
   "execution_count": null,
   "id": "84213aa9",
   "metadata": {},
   "outputs": [],
   "source": [
    "# This function will search within a text string for a given 'key word'. It is case sensitive\n",
    "\n",
    "def key_word(df, search_col, word_txt, result_col):\n",
    "    i=0   \n",
    "    result_ls = []\n",
    "    for item in df[search_col]:\n",
    "        text_ls = [x.strip() for x in df[search_col][i].split()]\n",
    "        if word_txt in text_ls:\n",
    "            result_ls.append(df[result_col][i])\n",
    "        i+=1\n",
    "    if i >= df[search_col].count():\n",
    "        if len(result_ls) > 0:\n",
    "            return result_ls\n",
    "        else:\n",
    "            return print(\"Keyword Not found\")"
   ]
  },
  {
   "cell_type": "code",
   "execution_count": null,
   "id": "991ae570",
   "metadata": {},
   "outputs": [],
   "source": [
    "population_search = key_word(WB_metadata_df, 'name', 'population', 'series_id')"
   ]
  },
  {
   "cell_type": "code",
   "execution_count": null,
   "id": "7ddf8e57",
   "metadata": {
    "scrolled": true
   },
   "outputs": [],
   "source": [
    "#population_search"
   ]
  },
  {
   "cell_type": "code",
   "execution_count": null,
   "id": "4aa1a7f2",
   "metadata": {},
   "outputs": [],
   "source": [
    "population_search2 = WB_metadata_df[WB_metadata_df['series_id'].isin(population_search)]"
   ]
  },
  {
   "cell_type": "code",
   "execution_count": null,
   "id": "bfaadfa3",
   "metadata": {},
   "outputs": [],
   "source": [
    "#population_search2"
   ]
  },
  {
   "cell_type": "markdown",
   "id": "05dafea6",
   "metadata": {},
   "source": [
    "# Selection of Indicators for Analysis\n",
    "\n",
    "###Indicators are selected out of the search result and used to create reduc ed data sets. In the case of the Population indicator, we selected six types of indicators : Rural and Urban population quantity, Rural and Urban population percent of total population, and Rural and Urban population annual growth % per year.\n",
    "\n",
    "###In order to organize the data, we prepared 6 data sets. One for each indicator."
   ]
  },
  {
   "cell_type": "code",
   "execution_count": null,
   "id": "b9c3b8ea",
   "metadata": {},
   "outputs": [],
   "source": [
    "#SP.URB.TOTL:Urban population, SP.URB.TOTL.IN.ZS:Urban population (% of total population), SP.URB.GROW:Urban population growth (annual %)\n",
    "\n",
    "#SP.RUR.TOTL:Rural population, SP.RUR.TOTL.ZS:Rural population (% of total population), SP.RUR.TOTL.ZG:Rural population growth (annual %),\n",
    "\n",
    "#population_search_choiceURBT = ['SP.URB.TOTL']\n",
    "#population_search_choiceRURT = ['SP.RUR.TOTL']\n",
    "#population_search_choiceURBP = ['SP.URB.TOTL.IN.ZS']\n",
    "#population_search_choiceRURP = ['SP.RUR.TOTL.ZS']\n",
    "#population_search_choiceURBG = ['SP.URB.GROW']\n",
    "#population_search_choiceRURG = ['SP.RUR.TOTL.ZG']"
   ]
  },
  {
   "cell_type": "markdown",
   "id": "62320478",
   "metadata": {},
   "source": [
    "## Total Urban Population"
   ]
  },
  {
   "cell_type": "code",
   "execution_count": null,
   "id": "c32fee4a",
   "metadata": {},
   "outputs": [],
   "source": [
    "WB_pop_URBT_df = WB_africadata_2000_df2.loc[WB_africadata_2000_df2['series_id'] == 'SP.URB.TOTL']\n",
    "#WB_pop_URBT_df"
   ]
  },
  {
   "cell_type": "code",
   "execution_count": null,
   "id": "f31cae73",
   "metadata": {},
   "outputs": [],
   "source": [
    "reduc_pop_URBT_df = WB_pop_URBT_df.reset_index()\n",
    "reduc_pop_URBT_df.drop(columns=['index','series_id'], inplace=True)\n",
    "reduc_pop_URBT_df"
   ]
  },
  {
   "cell_type": "code",
   "execution_count": null,
   "id": "9ded03f8",
   "metadata": {},
   "outputs": [],
   "source": [
    "URBT_table = reduc_pop_URBT_df.pivot(index='year', columns='country_name', values='value')\n",
    "#URBT_table"
   ]
  },
  {
   "cell_type": "markdown",
   "id": "b33632ce",
   "metadata": {},
   "source": [
    "## Total Rural Population"
   ]
  },
  {
   "cell_type": "code",
   "execution_count": null,
   "id": "0efdc181",
   "metadata": {
    "scrolled": true
   },
   "outputs": [],
   "source": [
    "WB_pop_RURT_df = WB_africadata_2000_df2.loc[WB_africadata_2000_df2['series_id'] == 'SP.RUR.TOTL']\n",
    "#WB_pop_RURT_df"
   ]
  },
  {
   "cell_type": "code",
   "execution_count": null,
   "id": "d6e3f573",
   "metadata": {},
   "outputs": [],
   "source": [
    "reduc_pop_RURT_df = WB_pop_RURT_df.reset_index()\n",
    "reduc_pop_RURT_df.drop(columns=['index','series_id'], inplace=True)\n",
    "#reduc_pop_RURT_df"
   ]
  },
  {
   "cell_type": "code",
   "execution_count": null,
   "id": "a0478f19",
   "metadata": {},
   "outputs": [],
   "source": [
    "RURT_table = reduc_pop_RURT_df.pivot(index='year', columns='country_name', values='value')\n",
    "#RURT_table"
   ]
  },
  {
   "cell_type": "markdown",
   "id": "ab36d042",
   "metadata": {},
   "source": [
    "# Total Population"
   ]
  },
  {
   "cell_type": "code",
   "execution_count": null,
   "id": "6925e3c6",
   "metadata": {},
   "outputs": [],
   "source": [
    "TOT_table = RURT_table + URBT_table\n",
    "TOT_table"
   ]
  },
  {
   "cell_type": "code",
   "execution_count": null,
   "id": "f17e6878",
   "metadata": {
    "scrolled": true
   },
   "outputs": [],
   "source": [
    "data2 = {\n",
    "    '2000 Total Population (millions)': (TOT_table.iloc[0, 0:31]/1_000_000),\n",
    "    '2023 Total Population (millions)': (TOT_table.iloc[-1, 0:31]/1_000_000)   \n",
    "}\n",
    "summary_table2 = pd.DataFrame(data2)\n",
    "summary_table2\n"
   ]
  },
  {
   "cell_type": "code",
   "execution_count": null,
   "id": "7b8ea8c4",
   "metadata": {},
   "outputs": [],
   "source": [
    "# Create a sample DataFrame\n",
    "data = {\n",
    "    '2000': (summary_table2['2000 Total Population (millions)']),\n",
    "    '2023': (summary_table2['2023 Total Population (millions)'])\n",
    "}\n",
    "df = pd.DataFrame(data)\n",
    "\n",
    "# Plot overlapping histograms\n",
    "df.plot.hist(alpha=0.5, bins=10)\n",
    "plt.title (\"Total Population distribution 2000 vs 2023\")\n",
    "plt.xlabel('Total Population (millions)')\n",
    "plt.ylabel('Country Counts')\n",
    "plt.show()\n",
    "\n",
    "# Add code to create figure output"
   ]
  },
  {
   "cell_type": "code",
   "execution_count": null,
   "id": "e93c6573",
   "metadata": {},
   "outputs": [],
   "source": [
    "# Save the DataFrame as a CSV\n",
    "# Note: To avoid any issues later, use encoding=\"utf-8\"\n",
    "summary_table2.to_csv(\"Resources\\WB_population_summary.csv\", encoding=\"utf-8\", index=False)"
   ]
  },
  {
   "cell_type": "code",
   "execution_count": null,
   "id": "d0c51a5d",
   "metadata": {
    "scrolled": true
   },
   "outputs": [],
   "source": [
    "# Sample data\n",
    "data1 = {'Category': ['A', 'A', 'A', 'B', 'B', 'B'], 'Value': [1, 2, 3, 4, 5, 6]}\n",
    "data2 = {'Category': ['A', 'A', 'A', 'B', 'B', 'B'], 'Value': [2, 3, 4, 5, 6, 7]}\n",
    "\n",
    "# Create DataFrames\n",
    "df1 = pd.DataFrame(data1)\n",
    "df2 = pd.DataFrame(data2)\n",
    "\n",
    "# Combine DataFrames\n",
    "df1['Dataset'] = 'Dataset 1'\n",
    "df2['Dataset'] = 'Dataset 2'\n",
    "combined_df = pd.concat([df1, df2])\n",
    "\n",
    "# Plot box plots\n",
    "plt.figure(figsize=(10, 6))\n",
    "combined_df.boxplot(by='Category', column='Value', grid=False)\n",
    "plt.title('Box Plots of Two Datasets')\n",
    "plt.suptitle('')  # Suppress the default title\n",
    "plt.xlabel('Category')\n",
    "plt.ylabel('Value')\n",
    "plt.show()"
   ]
  },
  {
   "cell_type": "code",
   "execution_count": null,
   "id": "ce4d1e4c",
   "metadata": {},
   "outputs": [],
   "source": [
    "combined_df"
   ]
  },
  {
   "cell_type": "code",
   "execution_count": null,
   "id": "27ded44c",
   "metadata": {},
   "outputs": [],
   "source": [
    "# My code - not working - DO NOT RUN!\n",
    "# Sample data\n",
    "data1 = {'Category': (WB_africadata_2000_df2['country_name'].unique()), 'Value': (summary_table2['2000 Total Population (millions)'])}\n",
    "data2 = {'Category': (WB_africadata_2000_df2['country_name'].unique()), 'Value': (summary_table2['2023 Total Population (millions)'])}\n",
    "\n",
    "# Create DataFrames\n",
    "df1 = pd.DataFrame(data1)\n",
    "df2 = pd.DataFrame(data2)\n",
    "\n",
    "# Combine DataFrames\n",
    "df1['Dataset'] = '2000'\n",
    "df2['Dataset'] = '2023'\n",
    "combined_df = pd.concat([df1, df2])\n",
    "\n",
    "# Plot box plots\n",
    "plt.figure(figsize=(10, 6))\n",
    "combined_df.boxplot(by='Category', column='Value', grid=False)\n",
    "plt.title('Box Plots of Two Datasets')\n",
    "plt.suptitle('')  # Suppress the default title\n",
    "plt.xlabel('Category')\n",
    "plt.ylabel('Value')\n",
    "plt.show()"
   ]
  },
  {
   "cell_type": "code",
   "execution_count": null,
   "id": "b863c1c2",
   "metadata": {},
   "outputs": [],
   "source": [
    "# My code - not working - DO NOT RUN!\n",
    "data_2000 = {\n",
    "    '2000': (summary_table2['2000 Total Population (millions)']),\n",
    "    '2023': (summary_table2['2023 Total Population (millions)'])\n",
    "}\n",
    "df = pd.DataFrame(data2)\n",
    "\n",
    "fig, (ax1) = plt.subplots()\n",
    "\n",
    "# single boxplot call\n",
    "summary_table2.boxplot(by='country_name', column)\n",
    "ax1.boxplot(data2, patch_artist=True, boxprops={'facecolor': 'bisque'})\n",
    "ax1.set_xticklabels=(['2000', '2023']),\n",
    "\n",
    "plt.show()\n"
   ]
  },
  {
   "cell_type": "code",
   "execution_count": null,
   "id": "6970dc59",
   "metadata": {},
   "outputs": [],
   "source": []
  },
  {
   "cell_type": "code",
   "execution_count": null,
   "id": "90c25a1a",
   "metadata": {},
   "outputs": [],
   "source": [
    "%%capture --no-display\n",
    "\n",
    "# Configure the map plot\n",
    "map_plot_humidity = city_data_df.hvplot.points(\n",
    "    \"Lng\",\n",
    "    \"Lat\",\n",
    "    geo = True,\n",
    "    tiles = \"OSM\",\n",
    "    frame_width = 700,\n",
    "    frame_height = 500,\n",
    "    size = \"Humidity\",\n",
    "    scale = 1.0,\n",
    "    color = \"City\"\n",
    ")\n",
    "\n",
    "# Display the map\n",
    "map_plot_humidity"
   ]
  },
  {
   "cell_type": "code",
   "execution_count": null,
   "id": "bc37b86f",
   "metadata": {},
   "outputs": [],
   "source": [
    "%%capture --no-display\n",
    "\n",
    "# Configure the map plot\n",
    "map_plot_hotel = hotel_df.hvplot.points(\n",
    "    \"Lng\",\n",
    "    \"Lat\",\n",
    "    geo = True,\n",
    "    tiles = \"OSM\",\n",
    "    frame_width = 700,\n",
    "    frame_height = 500,\n",
    "    size = 10,\n",
    "    scale = 1.0,\n",
    "    color = \"City\",\n",
    "    hover_cols = (['Lng','Lat','City', 'Country','Hotel Name'])\n",
    "   )\n",
    "\n",
    "# Display the map\n",
    "map_plot_hotel"
   ]
  },
  {
   "cell_type": "code",
   "execution_count": 35,
   "id": "b9e14054-fe35-49fa-b4b4-4403a850bf7c",
   "metadata": {},
   "outputs": [
    {
     "ename": "NameError",
     "evalue": "name 'TOT_table' is not defined",
     "output_type": "error",
     "traceback": [
      "\u001b[1;31m---------------------------------------------------------------------------\u001b[0m",
      "\u001b[1;31mNameError\u001b[0m                                 Traceback (most recent call last)",
      "Cell \u001b[1;32mIn[35], line 1\u001b[0m\n\u001b[1;32m----> 1\u001b[0m TOT_table\u001b[38;5;241m.\u001b[39mhead\n",
      "\u001b[1;31mNameError\u001b[0m: name 'TOT_table' is not defined"
     ]
    }
   ],
   "source": [
    "TOT_table.head"
   ]
  },
  {
   "cell_type": "code",
   "execution_count": null,
   "id": "05b3fd79-3750-4e02-aaec-9cc95e37559d",
   "metadata": {},
   "outputs": [],
   "source": []
  }
 ],
 "metadata": {
  "kernelspec": {
   "display_name": "Python 3 (ipykernel)",
   "language": "python",
   "name": "python3"
  },
  "language_info": {
   "codemirror_mode": {
    "name": "ipython",
    "version": 3
   },
   "file_extension": ".py",
   "mimetype": "text/x-python",
   "name": "python",
   "nbconvert_exporter": "python",
   "pygments_lexer": "ipython3",
   "version": "3.12.4"
  }
 },
 "nbformat": 4,
 "nbformat_minor": 5
}
